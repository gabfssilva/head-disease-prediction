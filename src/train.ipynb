{
 "cells": [
  {
   "cell_type": "code",
   "id": "initial_id",
   "metadata": {
    "collapsed": true,
    "ExecuteTime": {
     "end_time": "2024-06-19T16:21:43.173582Z",
     "start_time": "2024-06-19T16:21:41.950986Z"
    }
   },
   "source": [
    "from src.dataset import X_train, y_train, X_test, y_test\n",
    "from src.pipelines.decision_tree_pipeline import decision_tree\n",
    "from src.pipelines.logistic_regression_pipeline import logistic_regression\n",
    "from src.pipelines.random_forest_pipeline import random_forest\n",
    "from src.util.scikitlearn_utils import evaluate_model\n",
    "\n",
    "lr = logistic_regression()\n",
    "dt = decision_tree()\n",
    "rf = random_forest()"
   ],
   "outputs": [],
   "execution_count": 1
  },
  {
   "metadata": {
    "ExecuteTime": {
     "end_time": "2024-06-19T16:22:05.089592Z",
     "start_time": "2024-06-19T16:21:43.174546Z"
    }
   },
   "cell_type": "code",
   "source": [
    "evaluate_model(\n",
    "    model=lr,\n",
    "    X_train=X_train,\n",
    "    y_train=y_train,\n",
    "    X_test=X_test,\n",
    "    y_test=y_test\n",
    ")"
   ],
   "id": "63e7e5dafe5684ef",
   "outputs": [
    {
     "name": "stdout",
     "output_type": "stream",
     "text": [
      "Fitting 10 folds for each of 4 candidates, totalling 40 fits\n",
      "[CV 4/10] END logisticregression__C=0.1, logisticregression__max_iter=1000, logisticregression__penalty=l2; accuracy: (test=0.958) f1: (test=0.727) precision: (test=0.571) recall: (test=1.000) total time=   5.0s\n",
      "[CV 4/10] END logisticregression__C=0.1, logisticregression__max_iter=2000, logisticregression__penalty=l2; accuracy: (test=0.958) f1: (test=0.727) precision: (test=0.571) recall: (test=1.000) total time=   3.5s\n",
      "[CV 2/10] END logisticregression__C=1, logisticregression__max_iter=1000, logisticregression__penalty=l2; accuracy: (test=0.956) f1: (test=0.717) precision: (test=0.559) recall: (test=0.999) total time=   3.4s\n",
      "[CV 1/10] END logisticregression__C=1, logisticregression__max_iter=2000, logisticregression__penalty=l2; accuracy: (test=0.957) f1: (test=0.723) precision: (test=0.566) recall: (test=0.999) total time=   3.8s\n",
      "[CV 9/10] END logisticregression__C=1, logisticregression__max_iter=2000, logisticregression__penalty=l2; accuracy: (test=0.957) f1: (test=0.722) precision: (test=0.566) recall: (test=0.999) total time=   2.1s\n",
      "Best Parameters:\n",
      "{'logisticregression__C': 1, 'logisticregression__max_iter': 1000, 'logisticregression__penalty': 'l2'}\n",
      "Confusion Matrix:\n"
     ]
    },
    {
     "data": {
      "text/plain": [
       "<pandas.io.formats.style.Styler at 0x344f25880>"
      ],
      "text/html": [
       "<style type=\"text/css\">\n",
       "#T_eab64_row0_col0, #T_eab64_row1_col1 {\n",
       "  background-color: #08306b;\n",
       "  color: #f1f1f1;\n",
       "}\n",
       "#T_eab64_row0_col1, #T_eab64_row1_col0 {\n",
       "  background-color: #f7fbff;\n",
       "  color: #000000;\n",
       "}\n",
       "</style>\n",
       "<table id=\"T_eab64\">\n",
       "  <thead>\n",
       "    <tr>\n",
       "      <th class=\"blank level0\" >&nbsp;</th>\n",
       "      <th id=\"T_eab64_level0_col0\" class=\"col_heading level0 col0\" >Predicted haven't suffered a heart attack</th>\n",
       "      <th id=\"T_eab64_level0_col1\" class=\"col_heading level0 col1\" >Predicted suffered a heart attack</th>\n",
       "    </tr>\n",
       "  </thead>\n",
       "  <tbody>\n",
       "    <tr>\n",
       "      <th id=\"T_eab64_level0_row0\" class=\"row_heading level0 row0\" >Actual haven't suffered a heart attack</th>\n",
       "      <td id=\"T_eab64_row0_col0\" class=\"data row0 col0\" >80108</td>\n",
       "      <td id=\"T_eab64_row0_col1\" class=\"data row0 col1\" >3896</td>\n",
       "    </tr>\n",
       "    <tr>\n",
       "      <th id=\"T_eab64_level0_row1\" class=\"row_heading level0 row1\" >Actual suffered a heart attack</th>\n",
       "      <td id=\"T_eab64_row1_col0\" class=\"data row1 col0\" >2</td>\n",
       "      <td id=\"T_eab64_row1_col1\" class=\"data row1 col1\" >5020</td>\n",
       "    </tr>\n",
       "  </tbody>\n",
       "</table>\n"
      ]
     },
     "metadata": {},
     "output_type": "display_data"
    },
    {
     "name": "stdout",
     "output_type": "stream",
     "text": [
      "\n",
      "Evaluation Metrics:\n"
     ]
    },
    {
     "data": {
      "text/plain": [
       "<pandas.io.formats.style.Styler at 0x365e73da0>"
      ],
      "text/html": [
       "<style type=\"text/css\">\n",
       "#T_ef323_row0_col0, #T_ef323_row0_col2, #T_ef323_row1_col1 {\n",
       "  background-color: lightgreen;\n",
       "}\n",
       "</style>\n",
       "<table id=\"T_ef323\">\n",
       "  <thead>\n",
       "    <tr>\n",
       "      <th class=\"blank level0\" >&nbsp;</th>\n",
       "      <th id=\"T_ef323_level0_col0\" class=\"col_heading level0 col0\" >precision</th>\n",
       "      <th id=\"T_ef323_level0_col1\" class=\"col_heading level0 col1\" >recall</th>\n",
       "      <th id=\"T_ef323_level0_col2\" class=\"col_heading level0 col2\" >f1-score</th>\n",
       "      <th id=\"T_ef323_level0_col3\" class=\"col_heading level0 col3\" >support</th>\n",
       "    </tr>\n",
       "  </thead>\n",
       "  <tbody>\n",
       "    <tr>\n",
       "      <th id=\"T_ef323_level0_row0\" class=\"row_heading level0 row0\" >haven't suffered a heart attack</th>\n",
       "      <td id=\"T_ef323_row0_col0\" class=\"data row0 col0\" >1.00</td>\n",
       "      <td id=\"T_ef323_row0_col1\" class=\"data row0 col1\" >0.95</td>\n",
       "      <td id=\"T_ef323_row0_col2\" class=\"data row0 col2\" >0.98</td>\n",
       "      <td id=\"T_ef323_row0_col3\" class=\"data row0 col3\" >84004.00</td>\n",
       "    </tr>\n",
       "    <tr>\n",
       "      <th id=\"T_ef323_level0_row1\" class=\"row_heading level0 row1\" >suffered a heart attack</th>\n",
       "      <td id=\"T_ef323_row1_col0\" class=\"data row1 col0\" >0.56</td>\n",
       "      <td id=\"T_ef323_row1_col1\" class=\"data row1 col1\" >1.00</td>\n",
       "      <td id=\"T_ef323_row1_col2\" class=\"data row1 col2\" >0.72</td>\n",
       "      <td id=\"T_ef323_row1_col3\" class=\"data row1 col3\" >5022.00</td>\n",
       "    </tr>\n",
       "    <tr>\n",
       "      <th id=\"T_ef323_level0_row2\" class=\"row_heading level0 row2\" >accuracy</th>\n",
       "      <td id=\"T_ef323_row2_col0\" class=\"data row2 col0\" >0.96</td>\n",
       "      <td id=\"T_ef323_row2_col1\" class=\"data row2 col1\" >0.96</td>\n",
       "      <td id=\"T_ef323_row2_col2\" class=\"data row2 col2\" >0.96</td>\n",
       "      <td id=\"T_ef323_row2_col3\" class=\"data row2 col3\" >0.96</td>\n",
       "    </tr>\n",
       "    <tr>\n",
       "      <th id=\"T_ef323_level0_row3\" class=\"row_heading level0 row3\" >macro avg</th>\n",
       "      <td id=\"T_ef323_row3_col0\" class=\"data row3 col0\" >0.78</td>\n",
       "      <td id=\"T_ef323_row3_col1\" class=\"data row3 col1\" >0.98</td>\n",
       "      <td id=\"T_ef323_row3_col2\" class=\"data row3 col2\" >0.85</td>\n",
       "      <td id=\"T_ef323_row3_col3\" class=\"data row3 col3\" >89026.00</td>\n",
       "    </tr>\n",
       "    <tr>\n",
       "      <th id=\"T_ef323_level0_row4\" class=\"row_heading level0 row4\" >weighted avg</th>\n",
       "      <td id=\"T_ef323_row4_col0\" class=\"data row4 col0\" >0.98</td>\n",
       "      <td id=\"T_ef323_row4_col1\" class=\"data row4 col1\" >0.96</td>\n",
       "      <td id=\"T_ef323_row4_col2\" class=\"data row4 col2\" >0.96</td>\n",
       "      <td id=\"T_ef323_row4_col3\" class=\"data row4 col3\" >89026.00</td>\n",
       "    </tr>\n",
       "  </tbody>\n",
       "</table>\n"
      ]
     },
     "metadata": {},
     "output_type": "display_data"
    }
   ],
   "execution_count": 2
  },
  {
   "metadata": {
    "ExecuteTime": {
     "end_time": "2024-06-19T16:23:26.922684Z",
     "start_time": "2024-06-19T16:22:05.090353Z"
    }
   },
   "cell_type": "code",
   "source": [
    "evaluate_model(\n",
    "    model=dt,\n",
    "    X_train=X_train,\n",
    "    y_train=y_train,\n",
    "    X_test=X_test,\n",
    "    y_test=y_test\n",
    ")"
   ],
   "id": "ce9144bb712fc9b4",
   "outputs": [
    {
     "name": "stdout",
     "output_type": "stream",
     "text": [
      "Fitting 10 folds for each of 24 candidates, totalling 240 fits\n",
      "[CV 2/10] END decisiontreeclassifier__criterion=gini, decisiontreeclassifier__max_depth=50, decisiontreeclassifier__min_samples_leaf=3, decisiontreeclassifier__min_samples_split=20; accuracy: (test=0.967) f1: (test=0.772) precision: (test=0.638) recall: (test=0.976) total time=   3.6s\n",
      "[CV 6/10] END decisiontreeclassifier__criterion=gini, decisiontreeclassifier__max_depth=50, decisiontreeclassifier__min_samples_leaf=3, decisiontreeclassifier__min_samples_split=50; accuracy: (test=0.966) f1: (test=0.769) precision: (test=0.629) recall: (test=0.990) total time=   2.9s\n",
      "[CV 4/10] END decisiontreeclassifier__criterion=gini, decisiontreeclassifier__max_depth=50, decisiontreeclassifier__min_samples_leaf=10, decisiontreeclassifier__min_samples_split=20; accuracy: (test=0.968) f1: (test=0.779) precision: (test=0.645) recall: (test=0.982) total time=   2.7s\n",
      "[CV 2/10] END decisiontreeclassifier__criterion=gini, decisiontreeclassifier__max_depth=50, decisiontreeclassifier__min_samples_leaf=10, decisiontreeclassifier__min_samples_split=50; accuracy: (test=0.967) f1: (test=0.773) precision: (test=0.630) recall: (test=1.000) total time=   2.9s\n",
      "[CV 10/10] END decisiontreeclassifier__criterion=gini, decisiontreeclassifier__max_depth=50, decisiontreeclassifier__min_samples_leaf=10, decisiontreeclassifier__min_samples_split=50; accuracy: (test=0.968) f1: (test=0.779) precision: (test=0.639) recall: (test=0.999) total time=   2.6s\n",
      "[CV 8/10] END decisiontreeclassifier__criterion=gini, decisiontreeclassifier__max_depth=100, decisiontreeclassifier__min_samples_leaf=3, decisiontreeclassifier__min_samples_split=20; accuracy: (test=0.968) f1: (test=0.775) precision: (test=0.643) recall: (test=0.975) total time=   2.4s\n",
      "[CV 4/10] END decisiontreeclassifier__criterion=gini, decisiontreeclassifier__max_depth=100, decisiontreeclassifier__min_samples_leaf=3, decisiontreeclassifier__min_samples_split=50; accuracy: (test=0.969) f1: (test=0.780) precision: (test=0.644) recall: (test=0.988) total time=   2.9s\n",
      "[CV 4/10] END decisiontreeclassifier__criterion=gini, decisiontreeclassifier__max_depth=100, decisiontreeclassifier__min_samples_leaf=10, decisiontreeclassifier__min_samples_split=20; accuracy: (test=0.968) f1: (test=0.777) precision: (test=0.642) recall: (test=0.985) total time=   2.8s\n",
      "[CV 2/10] END decisiontreeclassifier__criterion=gini, decisiontreeclassifier__max_depth=100, decisiontreeclassifier__min_samples_leaf=10, decisiontreeclassifier__min_samples_split=50; accuracy: (test=0.967) f1: (test=0.772) precision: (test=0.630) recall: (test=0.998) total time=   2.6s\n",
      "[CV 10/10] END decisiontreeclassifier__criterion=gini, decisiontreeclassifier__max_depth=100, decisiontreeclassifier__min_samples_leaf=10, decisiontreeclassifier__min_samples_split=50; accuracy: (test=0.968) f1: (test=0.780) precision: (test=0.640) recall: (test=1.000) total time=   2.7s\n",
      "[CV 8/10] END decisiontreeclassifier__criterion=gini, decisiontreeclassifier__max_depth=200, decisiontreeclassifier__min_samples_leaf=3, decisiontreeclassifier__min_samples_split=20; accuracy: (test=0.968) f1: (test=0.777) precision: (test=0.644) recall: (test=0.978) total time=   2.8s\n",
      "[CV 6/10] END decisiontreeclassifier__criterion=gini, decisiontreeclassifier__max_depth=200, decisiontreeclassifier__min_samples_leaf=3, decisiontreeclassifier__min_samples_split=50; accuracy: (test=0.967) f1: (test=0.771) precision: (test=0.632) recall: (test=0.989) total time=   2.6s\n",
      "[CV 4/10] END decisiontreeclassifier__criterion=gini, decisiontreeclassifier__max_depth=200, decisiontreeclassifier__min_samples_leaf=10, decisiontreeclassifier__min_samples_split=20; accuracy: (test=0.968) f1: (test=0.777) precision: (test=0.642) recall: (test=0.987) total time=   2.5s\n",
      "[CV 2/10] END decisiontreeclassifier__criterion=gini, decisiontreeclassifier__max_depth=200, decisiontreeclassifier__min_samples_leaf=10, decisiontreeclassifier__min_samples_split=50; accuracy: (test=0.967) f1: (test=0.772) precision: (test=0.630) recall: (test=0.999) total time=   2.3s\n"
     ]
    },
    {
     "name": "stderr",
     "output_type": "stream",
     "text": [
      "/Users/gabrielfrancisco/Library/Caches/pypoetry/virtualenvs/heart-disease-prediction-sXIzLz3W-py3.12/lib/python3.12/site-packages/joblib/externals/loky/process_executor.py:752: UserWarning: A worker stopped while some jobs were given to the executor. This can be caused by a too short worker timeout or by a memory leak.\n",
      "  warnings.warn(\n"
     ]
    },
    {
     "name": "stdout",
     "output_type": "stream",
     "text": [
      "Best Parameters:\n",
      "{'decisiontreeclassifier__criterion': 'entropy', 'decisiontreeclassifier__max_depth': 200, 'decisiontreeclassifier__min_samples_leaf': 10, 'decisiontreeclassifier__min_samples_split': 20}\n",
      "Confusion Matrix:\n"
     ]
    },
    {
     "data": {
      "text/plain": [
       "<pandas.io.formats.style.Styler at 0x365891e80>"
      ],
      "text/html": [
       "<style type=\"text/css\">\n",
       "#T_5dd71_row0_col0, #T_5dd71_row1_col1 {\n",
       "  background-color: #08306b;\n",
       "  color: #f1f1f1;\n",
       "}\n",
       "#T_5dd71_row0_col1, #T_5dd71_row1_col0 {\n",
       "  background-color: #f7fbff;\n",
       "  color: #000000;\n",
       "}\n",
       "</style>\n",
       "<table id=\"T_5dd71\">\n",
       "  <thead>\n",
       "    <tr>\n",
       "      <th class=\"blank level0\" >&nbsp;</th>\n",
       "      <th id=\"T_5dd71_level0_col0\" class=\"col_heading level0 col0\" >Predicted haven't suffered a heart attack</th>\n",
       "      <th id=\"T_5dd71_level0_col1\" class=\"col_heading level0 col1\" >Predicted suffered a heart attack</th>\n",
       "    </tr>\n",
       "  </thead>\n",
       "  <tbody>\n",
       "    <tr>\n",
       "      <th id=\"T_5dd71_level0_row0\" class=\"row_heading level0 row0\" >Actual haven't suffered a heart attack</th>\n",
       "      <td id=\"T_5dd71_row0_col0\" class=\"data row0 col0\" >81250</td>\n",
       "      <td id=\"T_5dd71_row0_col1\" class=\"data row0 col1\" >2754</td>\n",
       "    </tr>\n",
       "    <tr>\n",
       "      <th id=\"T_5dd71_level0_row1\" class=\"row_heading level0 row1\" >Actual suffered a heart attack</th>\n",
       "      <td id=\"T_5dd71_row1_col0\" class=\"data row1 col0\" >109</td>\n",
       "      <td id=\"T_5dd71_row1_col1\" class=\"data row1 col1\" >4913</td>\n",
       "    </tr>\n",
       "  </tbody>\n",
       "</table>\n"
      ]
     },
     "metadata": {},
     "output_type": "display_data"
    },
    {
     "name": "stdout",
     "output_type": "stream",
     "text": [
      "\n",
      "Evaluation Metrics:\n"
     ]
    },
    {
     "data": {
      "text/plain": [
       "<pandas.io.formats.style.Styler at 0x365ef91c0>"
      ],
      "text/html": [
       "<style type=\"text/css\">\n",
       "#T_2e9e1_row0_col0, #T_2e9e1_row0_col2, #T_2e9e1_row1_col1 {\n",
       "  background-color: lightgreen;\n",
       "}\n",
       "</style>\n",
       "<table id=\"T_2e9e1\">\n",
       "  <thead>\n",
       "    <tr>\n",
       "      <th class=\"blank level0\" >&nbsp;</th>\n",
       "      <th id=\"T_2e9e1_level0_col0\" class=\"col_heading level0 col0\" >precision</th>\n",
       "      <th id=\"T_2e9e1_level0_col1\" class=\"col_heading level0 col1\" >recall</th>\n",
       "      <th id=\"T_2e9e1_level0_col2\" class=\"col_heading level0 col2\" >f1-score</th>\n",
       "      <th id=\"T_2e9e1_level0_col3\" class=\"col_heading level0 col3\" >support</th>\n",
       "    </tr>\n",
       "  </thead>\n",
       "  <tbody>\n",
       "    <tr>\n",
       "      <th id=\"T_2e9e1_level0_row0\" class=\"row_heading level0 row0\" >haven't suffered a heart attack</th>\n",
       "      <td id=\"T_2e9e1_row0_col0\" class=\"data row0 col0\" >1.00</td>\n",
       "      <td id=\"T_2e9e1_row0_col1\" class=\"data row0 col1\" >0.97</td>\n",
       "      <td id=\"T_2e9e1_row0_col2\" class=\"data row0 col2\" >0.98</td>\n",
       "      <td id=\"T_2e9e1_row0_col3\" class=\"data row0 col3\" >84004.00</td>\n",
       "    </tr>\n",
       "    <tr>\n",
       "      <th id=\"T_2e9e1_level0_row1\" class=\"row_heading level0 row1\" >suffered a heart attack</th>\n",
       "      <td id=\"T_2e9e1_row1_col0\" class=\"data row1 col0\" >0.64</td>\n",
       "      <td id=\"T_2e9e1_row1_col1\" class=\"data row1 col1\" >0.98</td>\n",
       "      <td id=\"T_2e9e1_row1_col2\" class=\"data row1 col2\" >0.77</td>\n",
       "      <td id=\"T_2e9e1_row1_col3\" class=\"data row1 col3\" >5022.00</td>\n",
       "    </tr>\n",
       "    <tr>\n",
       "      <th id=\"T_2e9e1_level0_row2\" class=\"row_heading level0 row2\" >accuracy</th>\n",
       "      <td id=\"T_2e9e1_row2_col0\" class=\"data row2 col0\" >0.97</td>\n",
       "      <td id=\"T_2e9e1_row2_col1\" class=\"data row2 col1\" >0.97</td>\n",
       "      <td id=\"T_2e9e1_row2_col2\" class=\"data row2 col2\" >0.97</td>\n",
       "      <td id=\"T_2e9e1_row2_col3\" class=\"data row2 col3\" >0.97</td>\n",
       "    </tr>\n",
       "    <tr>\n",
       "      <th id=\"T_2e9e1_level0_row3\" class=\"row_heading level0 row3\" >macro avg</th>\n",
       "      <td id=\"T_2e9e1_row3_col0\" class=\"data row3 col0\" >0.82</td>\n",
       "      <td id=\"T_2e9e1_row3_col1\" class=\"data row3 col1\" >0.97</td>\n",
       "      <td id=\"T_2e9e1_row3_col2\" class=\"data row3 col2\" >0.88</td>\n",
       "      <td id=\"T_2e9e1_row3_col3\" class=\"data row3 col3\" >89026.00</td>\n",
       "    </tr>\n",
       "    <tr>\n",
       "      <th id=\"T_2e9e1_level0_row4\" class=\"row_heading level0 row4\" >weighted avg</th>\n",
       "      <td id=\"T_2e9e1_row4_col0\" class=\"data row4 col0\" >0.98</td>\n",
       "      <td id=\"T_2e9e1_row4_col1\" class=\"data row4 col1\" >0.97</td>\n",
       "      <td id=\"T_2e9e1_row4_col2\" class=\"data row4 col2\" >0.97</td>\n",
       "      <td id=\"T_2e9e1_row4_col3\" class=\"data row4 col3\" >89026.00</td>\n",
       "    </tr>\n",
       "  </tbody>\n",
       "</table>\n"
      ]
     },
     "metadata": {},
     "output_type": "display_data"
    }
   ],
   "execution_count": 3
  },
  {
   "metadata": {
    "ExecuteTime": {
     "end_time": "2024-06-19T16:24:01.716954Z",
     "start_time": "2024-06-19T16:23:26.923665Z"
    }
   },
   "cell_type": "code",
   "source": [
    "evaluate_model(\n",
    "    model=rf,\n",
    "    X_train=X_train,\n",
    "    y_train=y_train,\n",
    "    X_test=X_test,\n",
    "    y_test=y_test\n",
    ")"
   ],
   "id": "48d31323caeea1cb",
   "outputs": [
    {
     "name": "stdout",
     "output_type": "stream",
     "text": [
      "Fitting 10 folds for each of 8 candidates, totalling 80 fits\n",
      "Best Parameters:\n",
      "{'randomforestclassifier__max_depth': 20, 'randomforestclassifier__min_samples_split': 7, 'randomforestclassifier__n_estimators': 15}\n",
      "Confusion Matrix:\n"
     ]
    },
    {
     "data": {
      "text/plain": [
       "<pandas.io.formats.style.Styler at 0x365891e80>"
      ],
      "text/html": [
       "<style type=\"text/css\">\n",
       "#T_cc66c_row0_col0, #T_cc66c_row1_col1 {\n",
       "  background-color: #08306b;\n",
       "  color: #f1f1f1;\n",
       "}\n",
       "#T_cc66c_row0_col1, #T_cc66c_row1_col0 {\n",
       "  background-color: #f7fbff;\n",
       "  color: #000000;\n",
       "}\n",
       "</style>\n",
       "<table id=\"T_cc66c\">\n",
       "  <thead>\n",
       "    <tr>\n",
       "      <th class=\"blank level0\" >&nbsp;</th>\n",
       "      <th id=\"T_cc66c_level0_col0\" class=\"col_heading level0 col0\" >Predicted haven't suffered a heart attack</th>\n",
       "      <th id=\"T_cc66c_level0_col1\" class=\"col_heading level0 col1\" >Predicted suffered a heart attack</th>\n",
       "    </tr>\n",
       "  </thead>\n",
       "  <tbody>\n",
       "    <tr>\n",
       "      <th id=\"T_cc66c_level0_row0\" class=\"row_heading level0 row0\" >Actual haven't suffered a heart attack</th>\n",
       "      <td id=\"T_cc66c_row0_col0\" class=\"data row0 col0\" >80881</td>\n",
       "      <td id=\"T_cc66c_row0_col1\" class=\"data row0 col1\" >3123</td>\n",
       "    </tr>\n",
       "    <tr>\n",
       "      <th id=\"T_cc66c_level0_row1\" class=\"row_heading level0 row1\" >Actual suffered a heart attack</th>\n",
       "      <td id=\"T_cc66c_row1_col0\" class=\"data row1 col0\" >19</td>\n",
       "      <td id=\"T_cc66c_row1_col1\" class=\"data row1 col1\" >5003</td>\n",
       "    </tr>\n",
       "  </tbody>\n",
       "</table>\n"
      ]
     },
     "metadata": {},
     "output_type": "display_data"
    },
    {
     "name": "stdout",
     "output_type": "stream",
     "text": [
      "\n",
      "Evaluation Metrics:\n"
     ]
    },
    {
     "data": {
      "text/plain": [
       "<pandas.io.formats.style.Styler at 0x1207d0fe0>"
      ],
      "text/html": [
       "<style type=\"text/css\">\n",
       "#T_cb545_row0_col0, #T_cb545_row0_col2, #T_cb545_row1_col1 {\n",
       "  background-color: lightgreen;\n",
       "}\n",
       "</style>\n",
       "<table id=\"T_cb545\">\n",
       "  <thead>\n",
       "    <tr>\n",
       "      <th class=\"blank level0\" >&nbsp;</th>\n",
       "      <th id=\"T_cb545_level0_col0\" class=\"col_heading level0 col0\" >precision</th>\n",
       "      <th id=\"T_cb545_level0_col1\" class=\"col_heading level0 col1\" >recall</th>\n",
       "      <th id=\"T_cb545_level0_col2\" class=\"col_heading level0 col2\" >f1-score</th>\n",
       "      <th id=\"T_cb545_level0_col3\" class=\"col_heading level0 col3\" >support</th>\n",
       "    </tr>\n",
       "  </thead>\n",
       "  <tbody>\n",
       "    <tr>\n",
       "      <th id=\"T_cb545_level0_row0\" class=\"row_heading level0 row0\" >haven't suffered a heart attack</th>\n",
       "      <td id=\"T_cb545_row0_col0\" class=\"data row0 col0\" >1.00</td>\n",
       "      <td id=\"T_cb545_row0_col1\" class=\"data row0 col1\" >0.96</td>\n",
       "      <td id=\"T_cb545_row0_col2\" class=\"data row0 col2\" >0.98</td>\n",
       "      <td id=\"T_cb545_row0_col3\" class=\"data row0 col3\" >84004.00</td>\n",
       "    </tr>\n",
       "    <tr>\n",
       "      <th id=\"T_cb545_level0_row1\" class=\"row_heading level0 row1\" >suffered a heart attack</th>\n",
       "      <td id=\"T_cb545_row1_col0\" class=\"data row1 col0\" >0.62</td>\n",
       "      <td id=\"T_cb545_row1_col1\" class=\"data row1 col1\" >1.00</td>\n",
       "      <td id=\"T_cb545_row1_col2\" class=\"data row1 col2\" >0.76</td>\n",
       "      <td id=\"T_cb545_row1_col3\" class=\"data row1 col3\" >5022.00</td>\n",
       "    </tr>\n",
       "    <tr>\n",
       "      <th id=\"T_cb545_level0_row2\" class=\"row_heading level0 row2\" >accuracy</th>\n",
       "      <td id=\"T_cb545_row2_col0\" class=\"data row2 col0\" >0.96</td>\n",
       "      <td id=\"T_cb545_row2_col1\" class=\"data row2 col1\" >0.96</td>\n",
       "      <td id=\"T_cb545_row2_col2\" class=\"data row2 col2\" >0.96</td>\n",
       "      <td id=\"T_cb545_row2_col3\" class=\"data row2 col3\" >0.96</td>\n",
       "    </tr>\n",
       "    <tr>\n",
       "      <th id=\"T_cb545_level0_row3\" class=\"row_heading level0 row3\" >macro avg</th>\n",
       "      <td id=\"T_cb545_row3_col0\" class=\"data row3 col0\" >0.81</td>\n",
       "      <td id=\"T_cb545_row3_col1\" class=\"data row3 col1\" >0.98</td>\n",
       "      <td id=\"T_cb545_row3_col2\" class=\"data row3 col2\" >0.87</td>\n",
       "      <td id=\"T_cb545_row3_col3\" class=\"data row3 col3\" >89026.00</td>\n",
       "    </tr>\n",
       "    <tr>\n",
       "      <th id=\"T_cb545_level0_row4\" class=\"row_heading level0 row4\" >weighted avg</th>\n",
       "      <td id=\"T_cb545_row4_col0\" class=\"data row4 col0\" >0.98</td>\n",
       "      <td id=\"T_cb545_row4_col1\" class=\"data row4 col1\" >0.96</td>\n",
       "      <td id=\"T_cb545_row4_col2\" class=\"data row4 col2\" >0.97</td>\n",
       "      <td id=\"T_cb545_row4_col3\" class=\"data row4 col3\" >89026.00</td>\n",
       "    </tr>\n",
       "  </tbody>\n",
       "</table>\n"
      ]
     },
     "metadata": {},
     "output_type": "display_data"
    }
   ],
   "execution_count": 4
  },
  {
   "metadata": {
    "ExecuteTime": {
     "end_time": "2024-06-19T16:24:01.720658Z",
     "start_time": "2024-06-19T16:24:01.718889Z"
    }
   },
   "cell_type": "code",
   "source": "",
   "id": "1f004373814241bf",
   "outputs": [],
   "execution_count": 4
  }
 ],
 "metadata": {
  "kernelspec": {
   "display_name": "Python 3",
   "language": "python",
   "name": "python3"
  },
  "language_info": {
   "codemirror_mode": {
    "name": "ipython",
    "version": 2
   },
   "file_extension": ".py",
   "mimetype": "text/x-python",
   "name": "python",
   "nbconvert_exporter": "python",
   "pygments_lexer": "ipython2",
   "version": "2.7.6"
  }
 },
 "nbformat": 4,
 "nbformat_minor": 5
}
