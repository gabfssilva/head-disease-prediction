{
 "cells": [
  {
   "cell_type": "code",
   "execution_count": 1,
   "id": "initial_id",
   "metadata": {
    "ExecuteTime": {
     "end_time": "2024-06-23T18:13:22.297445Z",
     "start_time": "2024-06-23T18:13:21.161706Z"
    }
   },
   "outputs": [
    {
     "data": {
      "text/plain": [
       "'X_train shape: (353653, 14)'"
      ]
     },
     "metadata": {},
     "output_type": "display_data"
    },
    {
     "data": {
      "text/plain": [
       "'X_test shape: (88414, 14)'"
      ]
     },
     "metadata": {},
     "output_type": "display_data"
    }
   ],
   "source": [
    "from pipelines.all_pipelines import *\n",
    "from sk.vis import *\n",
    "\n",
    "import pandas as pd\n",
    "\n",
    "df = pd.read_parquet('../resources/processed/train.parquet')\n",
    "df_test = pd.read_parquet('../resources/processed/test.parquet')\n",
    "\n",
    "only = [\n",
    "  '_RFHLTH',\n",
    "  '_TOTINDA', \n",
    "  '_AGE80',\n",
    "  '_BMI5', \n",
    "  '_YRSSMOK', \n",
    "  'CVDSTRK3', \n",
    "  'DIABETE4', \n",
    "  'CVDCRHD4',\n",
    "  'HADSIGM4',\n",
    "  '_ALTETH3',\n",
    "  '_HADCOLN',\n",
    "  '_PNEUMO3',\n",
    "  '_PACKYRS',\n",
    "  'PHYSHLTH'\n",
    "]\n",
    "\n",
    "y_train = df['target']\n",
    "X_train = df.drop(['target'], axis=1)\n",
    "X_train = X_train[only]\n",
    "\n",
    "y_test = df_test['target']\n",
    "X_test = df_test.drop('target', axis=1)\n",
    "X_test = X_test[only]\n",
    "\n",
    "lr = lr()\n",
    "dt = dt()\n",
    "rf = rf()\n",
    "nn = mlp()\n",
    "svm = svm()\n",
    "\n",
    "def plot(estimator):\n",
    "    plot_confusion_matrix(estimator, X_test, y_test)\n",
    "    performance_metrics_plot(estimator)\n",
    "\n",
    "def fit_and_eval(estimator):\n",
    "    estimator.fit(X_train, y_train)\n",
    "    plot(estimator)\n",
    "    display(estimator.result_.best.params)\n",
    "    return evalulate(estimator, X_test, y_test)\n",
    "\n",
    "display(f'X_train shape: {X_train.shape}')\n",
    "display(f'X_test shape: {X_test.shape}')"
   ]
  },
  {
   "cell_type": "code",
   "execution_count": null,
   "id": "3f564d55",
   "metadata": {},
   "outputs": [],
   "source": [
    "fit_and_eval(lr)"
   ]
  },
  {
   "cell_type": "code",
   "execution_count": null,
   "id": "63e7e5dafe5684ef",
   "metadata": {
    "ExecuteTime": {
     "end_time": "2024-06-23T18:18:26.158845Z",
     "start_time": "2024-06-23T18:13:23.698755Z"
    }
   },
   "outputs": [],
   "source": [
    "fit_and_eval(dt)"
   ]
  },
  {
   "cell_type": "code",
   "execution_count": null,
   "id": "16ab6493",
   "metadata": {},
   "outputs": [],
   "source": [
    "fit_and_eval(rf)"
   ]
  },
  {
   "cell_type": "code",
   "execution_count": null,
   "id": "20cebe40",
   "metadata": {},
   "outputs": [],
   "source": [
    "fit_and_eval(nn)"
   ]
  },
  {
   "cell_type": "code",
   "execution_count": 2,
   "id": "180da18c",
   "metadata": {},
   "outputs": [
    {
     "name": "stderr",
     "output_type": "stream",
     "text": [
      "Current best f1: 0.352: 100%|\u001b[32m██████████\u001b[0m| 20/20 [48:47]\n"
     ]
    },
    {
     "ename": "AttributeError",
     "evalue": "This 'Pipeline' has no attribute 'predict_proba'",
     "output_type": "error",
     "traceback": [
      "\u001b[0;31m---------------------------------------------------------------------------\u001b[0m",
      "\u001b[0;31mAttributeError\u001b[0m                            Traceback (most recent call last)",
      "File \u001b[0;32m~/Library/Caches/pypoetry/virtualenvs/heart-disease-prediction-sXIzLz3W-py3.12/lib/python3.12/site-packages/sklearn/utils/_available_if.py:29\u001b[0m, in \u001b[0;36m_AvailableIfDescriptor._check\u001b[0;34m(self, obj, owner)\u001b[0m\n\u001b[1;32m     28\u001b[0m \u001b[38;5;28;01mtry\u001b[39;00m:\n\u001b[0;32m---> 29\u001b[0m     check_result \u001b[38;5;241m=\u001b[39m \u001b[38;5;28;43mself\u001b[39;49m\u001b[38;5;241;43m.\u001b[39;49m\u001b[43mcheck\u001b[49m\u001b[43m(\u001b[49m\u001b[43mobj\u001b[49m\u001b[43m)\u001b[49m\n\u001b[1;32m     30\u001b[0m \u001b[38;5;28;01mexcept\u001b[39;00m \u001b[38;5;167;01mException\u001b[39;00m \u001b[38;5;28;01mas\u001b[39;00m e:\n",
      "File \u001b[0;32m~/Library/Caches/pypoetry/virtualenvs/heart-disease-prediction-sXIzLz3W-py3.12/lib/python3.12/site-packages/sklearn/svm/_base.py:822\u001b[0m, in \u001b[0;36mBaseSVC._check_proba\u001b[0;34m(self)\u001b[0m\n\u001b[1;32m    821\u001b[0m \u001b[38;5;28;01mif\u001b[39;00m \u001b[38;5;129;01mnot\u001b[39;00m \u001b[38;5;28mself\u001b[39m\u001b[38;5;241m.\u001b[39mprobability:\n\u001b[0;32m--> 822\u001b[0m     \u001b[38;5;28;01mraise\u001b[39;00m \u001b[38;5;167;01mAttributeError\u001b[39;00m(\n\u001b[1;32m    823\u001b[0m         \u001b[38;5;124m\"\u001b[39m\u001b[38;5;124mpredict_proba is not available when probability=False\u001b[39m\u001b[38;5;124m\"\u001b[39m\n\u001b[1;32m    824\u001b[0m     )\n\u001b[1;32m    825\u001b[0m \u001b[38;5;28;01mif\u001b[39;00m \u001b[38;5;28mself\u001b[39m\u001b[38;5;241m.\u001b[39m_impl \u001b[38;5;129;01mnot\u001b[39;00m \u001b[38;5;129;01min\u001b[39;00m (\u001b[38;5;124m\"\u001b[39m\u001b[38;5;124mc_svc\u001b[39m\u001b[38;5;124m\"\u001b[39m, \u001b[38;5;124m\"\u001b[39m\u001b[38;5;124mnu_svc\u001b[39m\u001b[38;5;124m\"\u001b[39m):\n",
      "\u001b[0;31mAttributeError\u001b[0m: predict_proba is not available when probability=False",
      "\nThe above exception was the direct cause of the following exception:\n",
      "\u001b[0;31mAttributeError\u001b[0m                            Traceback (most recent call last)",
      "File \u001b[0;32m~/Library/Caches/pypoetry/virtualenvs/heart-disease-prediction-sXIzLz3W-py3.12/lib/python3.12/site-packages/sklearn/utils/_available_if.py:29\u001b[0m, in \u001b[0;36m_AvailableIfDescriptor._check\u001b[0;34m(self, obj, owner)\u001b[0m\n\u001b[1;32m     28\u001b[0m \u001b[38;5;28;01mtry\u001b[39;00m:\n\u001b[0;32m---> 29\u001b[0m     check_result \u001b[38;5;241m=\u001b[39m \u001b[38;5;28;43mself\u001b[39;49m\u001b[38;5;241;43m.\u001b[39;49m\u001b[43mcheck\u001b[49m\u001b[43m(\u001b[49m\u001b[43mobj\u001b[49m\u001b[43m)\u001b[49m\n\u001b[1;32m     30\u001b[0m \u001b[38;5;28;01mexcept\u001b[39;00m \u001b[38;5;167;01mException\u001b[39;00m \u001b[38;5;28;01mas\u001b[39;00m e:\n",
      "File \u001b[0;32m~/Library/Caches/pypoetry/virtualenvs/heart-disease-prediction-sXIzLz3W-py3.12/lib/python3.12/site-packages/sklearn/pipeline.py:54\u001b[0m, in \u001b[0;36m_final_estimator_has.<locals>.check\u001b[0;34m(self)\u001b[0m\n\u001b[1;32m     52\u001b[0m \u001b[38;5;28;01mdef\u001b[39;00m \u001b[38;5;21mcheck\u001b[39m(\u001b[38;5;28mself\u001b[39m):\n\u001b[1;32m     53\u001b[0m     \u001b[38;5;66;03m# raise original `AttributeError` if `attr` does not exist\u001b[39;00m\n\u001b[0;32m---> 54\u001b[0m     \u001b[38;5;28;43mgetattr\u001b[39;49m\u001b[43m(\u001b[49m\u001b[38;5;28;43mself\u001b[39;49m\u001b[38;5;241;43m.\u001b[39;49m\u001b[43m_final_estimator\u001b[49m\u001b[43m,\u001b[49m\u001b[43m \u001b[49m\u001b[43mattr\u001b[49m\u001b[43m)\u001b[49m\n\u001b[1;32m     55\u001b[0m     \u001b[38;5;28;01mreturn\u001b[39;00m \u001b[38;5;28;01mTrue\u001b[39;00m\n",
      "File \u001b[0;32m~/Library/Caches/pypoetry/virtualenvs/heart-disease-prediction-sXIzLz3W-py3.12/lib/python3.12/site-packages/sklearn/utils/_available_if.py:40\u001b[0m, in \u001b[0;36m_AvailableIfDescriptor.__get__\u001b[0;34m(self, obj, owner)\u001b[0m\n\u001b[1;32m     37\u001b[0m \u001b[38;5;28;01mif\u001b[39;00m obj \u001b[38;5;129;01mis\u001b[39;00m \u001b[38;5;129;01mnot\u001b[39;00m \u001b[38;5;28;01mNone\u001b[39;00m:\n\u001b[1;32m     38\u001b[0m     \u001b[38;5;66;03m# delegate only on instances, not the classes.\u001b[39;00m\n\u001b[1;32m     39\u001b[0m     \u001b[38;5;66;03m# this is to allow access to the docstrings.\u001b[39;00m\n\u001b[0;32m---> 40\u001b[0m     \u001b[38;5;28;43mself\u001b[39;49m\u001b[38;5;241;43m.\u001b[39;49m\u001b[43m_check\u001b[49m\u001b[43m(\u001b[49m\u001b[43mobj\u001b[49m\u001b[43m,\u001b[49m\u001b[43m \u001b[49m\u001b[43mowner\u001b[49m\u001b[38;5;241;43m=\u001b[39;49m\u001b[43mowner\u001b[49m\u001b[43m)\u001b[49m\n\u001b[1;32m     41\u001b[0m     out \u001b[38;5;241m=\u001b[39m MethodType(\u001b[38;5;28mself\u001b[39m\u001b[38;5;241m.\u001b[39mfn, obj)\n",
      "File \u001b[0;32m~/Library/Caches/pypoetry/virtualenvs/heart-disease-prediction-sXIzLz3W-py3.12/lib/python3.12/site-packages/sklearn/utils/_available_if.py:31\u001b[0m, in \u001b[0;36m_AvailableIfDescriptor._check\u001b[0;34m(self, obj, owner)\u001b[0m\n\u001b[1;32m     30\u001b[0m \u001b[38;5;28;01mexcept\u001b[39;00m \u001b[38;5;167;01mException\u001b[39;00m \u001b[38;5;28;01mas\u001b[39;00m e:\n\u001b[0;32m---> 31\u001b[0m     \u001b[38;5;28;01mraise\u001b[39;00m \u001b[38;5;167;01mAttributeError\u001b[39;00m(attr_err_msg) \u001b[38;5;28;01mfrom\u001b[39;00m \u001b[38;5;21;01me\u001b[39;00m\n\u001b[1;32m     33\u001b[0m \u001b[38;5;28;01mif\u001b[39;00m \u001b[38;5;129;01mnot\u001b[39;00m check_result:\n",
      "\u001b[0;31mAttributeError\u001b[0m: This 'SVC' has no attribute 'predict_proba'",
      "\nThe above exception was the direct cause of the following exception:\n",
      "\u001b[0;31mAttributeError\u001b[0m                            Traceback (most recent call last)",
      "Cell \u001b[0;32mIn[2], line 1\u001b[0m\n\u001b[0;32m----> 1\u001b[0m \u001b[43mfit_and_eval\u001b[49m\u001b[43m(\u001b[49m\u001b[43msvm\u001b[49m\u001b[43m)\u001b[49m\n",
      "Cell \u001b[0;32mIn[1], line 48\u001b[0m, in \u001b[0;36mfit_and_eval\u001b[0;34m(estimator)\u001b[0m\n\u001b[1;32m     47\u001b[0m \u001b[38;5;28;01mdef\u001b[39;00m \u001b[38;5;21mfit_and_eval\u001b[39m(estimator):\n\u001b[0;32m---> 48\u001b[0m     \u001b[43mestimator\u001b[49m\u001b[38;5;241;43m.\u001b[39;49m\u001b[43mfit\u001b[49m\u001b[43m(\u001b[49m\u001b[43mX_train\u001b[49m\u001b[43m,\u001b[49m\u001b[43m \u001b[49m\u001b[43my_train\u001b[49m\u001b[43m)\u001b[49m\n\u001b[1;32m     49\u001b[0m     plot(estimator)\n\u001b[1;32m     50\u001b[0m     display(estimator\u001b[38;5;241m.\u001b[39mresult_\u001b[38;5;241m.\u001b[39mbest\u001b[38;5;241m.\u001b[39mparams)\n",
      "File \u001b[0;32m~/workspace/mestrado/heart-disease-prediction/src/sk/enhanced_grid_search.py:85\u001b[0m, in \u001b[0;36mEnhancedGridSearchCV.fit\u001b[0;34m(self, X, y)\u001b[0m\n\u001b[1;32m     82\u001b[0m     pb\u001b[38;5;241m.\u001b[39mupdate(\u001b[38;5;241m1\u001b[39m)\n\u001b[1;32m     84\u001b[0m \u001b[38;5;28;01mtry\u001b[39;00m:\n\u001b[0;32m---> 85\u001b[0m     result \u001b[38;5;241m=\u001b[39m \u001b[38;5;28;43mself\u001b[39;49m\u001b[38;5;241;43m.\u001b[39;49m\u001b[43m_eval_pipeline\u001b[49m\u001b[43m(\u001b[49m\u001b[43mX\u001b[49m\u001b[43m,\u001b[49m\u001b[43m \u001b[49m\u001b[43my\u001b[49m\u001b[43m,\u001b[49m\u001b[43m \u001b[49m\u001b[43mcallback\u001b[49m\u001b[38;5;241;43m=\u001b[39;49m\u001b[43mupdate_progress\u001b[49m\u001b[43m)\u001b[49m\n\u001b[1;32m     86\u001b[0m     \u001b[38;5;28mself\u001b[39m\u001b[38;5;241m.\u001b[39mresult_ \u001b[38;5;241m=\u001b[39m result\n\u001b[1;32m     87\u001b[0m \u001b[38;5;28;01mfinally\u001b[39;00m:\n",
      "File \u001b[0;32m~/workspace/mestrado/heart-disease-prediction/src/sk/enhanced_grid_search.py:210\u001b[0m, in \u001b[0;36mEnhancedGridSearchCV._eval_pipeline\u001b[0;34m(self, X, y, callback)\u001b[0m\n\u001b[1;32m    208\u001b[0m best_estimator\u001b[38;5;241m.\u001b[39mfit(X, y)\n\u001b[1;32m    209\u001b[0m y_pred \u001b[38;5;241m=\u001b[39m best_estimator\u001b[38;5;241m.\u001b[39mpredict(X)\n\u001b[0;32m--> 210\u001b[0m predicted_probabilities \u001b[38;5;241m=\u001b[39m \u001b[43mbest_estimator\u001b[49m\u001b[38;5;241;43m.\u001b[39;49m\u001b[43mpredict_proba\u001b[49m(X)\n\u001b[1;32m    212\u001b[0m \u001b[38;5;28;01mreturn\u001b[39;00m Result(\n\u001b[1;32m    213\u001b[0m     best\u001b[38;5;241m=\u001b[39mBestResult(\n\u001b[1;32m    214\u001b[0m         metric\u001b[38;5;241m=\u001b[39mrefit_score,\n\u001b[0;32m   (...)\u001b[0m\n\u001b[1;32m    228\u001b[0m     fitted_with\u001b[38;5;241m=\u001b[39mTrainingData(X, y)\n\u001b[1;32m    229\u001b[0m )\n",
      "File \u001b[0;32m~/Library/Caches/pypoetry/virtualenvs/heart-disease-prediction-sXIzLz3W-py3.12/lib/python3.12/site-packages/sklearn/utils/_available_if.py:40\u001b[0m, in \u001b[0;36m_AvailableIfDescriptor.__get__\u001b[0;34m(self, obj, owner)\u001b[0m\n\u001b[1;32m     36\u001b[0m \u001b[38;5;28;01mdef\u001b[39;00m \u001b[38;5;21m__get__\u001b[39m(\u001b[38;5;28mself\u001b[39m, obj, owner\u001b[38;5;241m=\u001b[39m\u001b[38;5;28;01mNone\u001b[39;00m):\n\u001b[1;32m     37\u001b[0m     \u001b[38;5;28;01mif\u001b[39;00m obj \u001b[38;5;129;01mis\u001b[39;00m \u001b[38;5;129;01mnot\u001b[39;00m \u001b[38;5;28;01mNone\u001b[39;00m:\n\u001b[1;32m     38\u001b[0m         \u001b[38;5;66;03m# delegate only on instances, not the classes.\u001b[39;00m\n\u001b[1;32m     39\u001b[0m         \u001b[38;5;66;03m# this is to allow access to the docstrings.\u001b[39;00m\n\u001b[0;32m---> 40\u001b[0m         \u001b[38;5;28;43mself\u001b[39;49m\u001b[38;5;241;43m.\u001b[39;49m\u001b[43m_check\u001b[49m\u001b[43m(\u001b[49m\u001b[43mobj\u001b[49m\u001b[43m,\u001b[49m\u001b[43m \u001b[49m\u001b[43mowner\u001b[49m\u001b[38;5;241;43m=\u001b[39;49m\u001b[43mowner\u001b[49m\u001b[43m)\u001b[49m\n\u001b[1;32m     41\u001b[0m         out \u001b[38;5;241m=\u001b[39m MethodType(\u001b[38;5;28mself\u001b[39m\u001b[38;5;241m.\u001b[39mfn, obj)\n\u001b[1;32m     43\u001b[0m     \u001b[38;5;28;01melse\u001b[39;00m:\n\u001b[1;32m     44\u001b[0m         \u001b[38;5;66;03m# This makes it possible to use the decorated method as an unbound method,\u001b[39;00m\n\u001b[1;32m     45\u001b[0m         \u001b[38;5;66;03m# for instance when monkeypatching.\u001b[39;00m\n",
      "File \u001b[0;32m~/Library/Caches/pypoetry/virtualenvs/heart-disease-prediction-sXIzLz3W-py3.12/lib/python3.12/site-packages/sklearn/utils/_available_if.py:31\u001b[0m, in \u001b[0;36m_AvailableIfDescriptor._check\u001b[0;34m(self, obj, owner)\u001b[0m\n\u001b[1;32m     29\u001b[0m     check_result \u001b[38;5;241m=\u001b[39m \u001b[38;5;28mself\u001b[39m\u001b[38;5;241m.\u001b[39mcheck(obj)\n\u001b[1;32m     30\u001b[0m \u001b[38;5;28;01mexcept\u001b[39;00m \u001b[38;5;167;01mException\u001b[39;00m \u001b[38;5;28;01mas\u001b[39;00m e:\n\u001b[0;32m---> 31\u001b[0m     \u001b[38;5;28;01mraise\u001b[39;00m \u001b[38;5;167;01mAttributeError\u001b[39;00m(attr_err_msg) \u001b[38;5;28;01mfrom\u001b[39;00m \u001b[38;5;21;01me\u001b[39;00m\n\u001b[1;32m     33\u001b[0m \u001b[38;5;28;01mif\u001b[39;00m \u001b[38;5;129;01mnot\u001b[39;00m check_result:\n\u001b[1;32m     34\u001b[0m     \u001b[38;5;28;01mraise\u001b[39;00m \u001b[38;5;167;01mAttributeError\u001b[39;00m(attr_err_msg)\n",
      "\u001b[0;31mAttributeError\u001b[0m: This 'Pipeline' has no attribute 'predict_proba'"
     ]
    }
   ],
   "source": [
    "# fit_and_eval(svm)"
   ]
  },
  {
   "cell_type": "code",
   "execution_count": null,
   "id": "a30801fa",
   "metadata": {},
   "outputs": [],
   "source": [
    "pd.DataFrame(lr.result_.best.params, index=[0]).T"
   ]
  },
  {
   "cell_type": "code",
   "execution_count": null,
   "id": "b1564a16",
   "metadata": {},
   "outputs": [],
   "source": [
    "pd.DataFrame(dt.result_.best.params, index=[0]).T"
   ]
  },
  {
   "cell_type": "code",
   "execution_count": null,
   "id": "a662e565",
   "metadata": {},
   "outputs": [],
   "source": [
    "pd.DataFrame(rf.result_.best.params, index=[0]).T"
   ]
  },
  {
   "cell_type": "code",
   "execution_count": null,
   "id": "5a33c265",
   "metadata": {},
   "outputs": [],
   "source": [
    "lr.result_.best.params\n",
    "\n",
    "# Activation: sigmoid\n",
    "# Solver: Adam\n",
    "# Alpha: 0.1\n",
    "# Learning Rate: Adaptative\n",
    "# Max Iterations: 50\n",
    "# Hidden Layers: 100, 25, 10\n",
    "\n",
    "# Numerical Simple Imputer: Median\n",
    "# Categorical Simple Imputer: Constant, as 'missing'"
   ]
  }
 ],
 "metadata": {
  "kernelspec": {
   "display_name": "Python 3 (ipykernel)",
   "language": "python",
   "name": "python3"
  },
  "language_info": {
   "codemirror_mode": {
    "name": "ipython",
    "version": 3
   },
   "file_extension": ".py",
   "mimetype": "text/x-python",
   "name": "python",
   "nbconvert_exporter": "python",
   "pygments_lexer": "ipython3",
   "version": "3.12.3"
  }
 },
 "nbformat": 4,
 "nbformat_minor": 5
}
