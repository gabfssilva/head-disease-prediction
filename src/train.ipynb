{
 "cells": [
  {
   "cell_type": "code",
   "execution_count": 1,
   "id": "initial_id",
   "metadata": {
    "ExecuteTime": {
     "end_time": "2024-06-19T16:21:43.173582Z",
     "start_time": "2024-06-19T16:21:41.950986Z"
    },
    "collapsed": true
   },
   "outputs": [],
   "source": [
    "from dataset import X_train, y_train, X_test, y_test\n",
    "from pipelines.decision_tree_pipeline import decision_tree\n",
    "from pipelines.logistic_regression_pipeline import logistic_regression\n",
    "from pipelines.random_forest_pipeline import random_forest\n",
    "from util.scikitlearn_utils import evaluate_model\n",
    "\n",
    "lr = logistic_regression()\n",
    "dt = decision_tree()\n",
    "rf = random_forest()"
   ]
  },
  {
   "cell_type": "code",
   "execution_count": 2,
   "id": "63e7e5dafe5684ef",
   "metadata": {
    "ExecuteTime": {
     "end_time": "2024-06-19T16:22:05.089592Z",
     "start_time": "2024-06-19T16:21:43.174546Z"
    }
   },
   "outputs": [
    {
     "name": "stdout",
     "output_type": "stream",
     "text": [
      "Fitting 10 folds for each of 4 candidates, totalling 40 fits\n"
     ]
    }
   ],
   "source": [
    "evaluate_model(\n",
    "    model=lr,\n",
    "    X_train=X_train,\n",
    "    y_train=y_train,\n",
    "    X_test=X_test,\n",
    "    y_test=y_test\n",
    ")"
   ]
  },
  {
   "cell_type": "code",
   "execution_count": null,
   "id": "ce9144bb712fc9b4",
   "metadata": {
    "ExecuteTime": {
     "end_time": "2024-06-19T16:23:26.922684Z",
     "start_time": "2024-06-19T16:22:05.090353Z"
    }
   },
   "outputs": [],
   "source": [
    "# evaluate_model(\n",
    "#     model=dt,\n",
    "#     X_train=X_train,\n",
    "#     y_train=y_train,\n",
    "#     X_test=X_test,\n",
    "#     y_test=y_test\n",
    "# )"
   ]
  },
  {
   "cell_type": "code",
   "execution_count": null,
   "id": "48d31323caeea1cb",
   "metadata": {
    "ExecuteTime": {
     "end_time": "2024-06-19T16:24:01.716954Z",
     "start_time": "2024-06-19T16:23:26.923665Z"
    }
   },
   "outputs": [],
   "source": [
    "# evaluate_model(\n",
    "#     model=rf,\n",
    "#     X_train=X_train,\n",
    "#     y_train=y_train,\n",
    "#     X_test=X_test,\n",
    "#     y_test=y_test\n",
    "# )"
   ]
  },
  {
   "cell_type": "code",
   "execution_count": null,
   "id": "1f004373814241bf",
   "metadata": {
    "ExecuteTime": {
     "end_time": "2024-06-19T16:24:01.720658Z",
     "start_time": "2024-06-19T16:24:01.718889Z"
    }
   },
   "outputs": [],
   "source": []
  }
 ],
 "metadata": {
  "kernelspec": {
   "display_name": "Python 3",
   "language": "python",
   "name": "python3"
  },
  "language_info": {
   "codemirror_mode": {
    "name": "ipython",
    "version": 3
   },
   "file_extension": ".py",
   "mimetype": "text/x-python",
   "name": "python",
   "nbconvert_exporter": "python",
   "pygments_lexer": "ipython3",
   "version": "3.12.3"
  }
 },
 "nbformat": 4,
 "nbformat_minor": 5
}
