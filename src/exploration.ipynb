{
 "cells": [
  {
   "metadata": {
    "ExecuteTime": {
     "end_time": "2024-05-12T00:11:24.305810Z",
     "start_time": "2024-05-12T00:11:23.682199Z"
    }
   },
   "cell_type": "code",
   "source": [
    "import pandas as pd\n",
    "import plotly.graph_objects as go\n",
    "import plotly.express as px\n",
    "\n",
    "import plotly.io as pio\n",
    "pio.renderers.default = \"notebook_connected\"\n",
    "\n",
    "headers_df = pd.read_json('../resources/generated/headers.json')\n",
    "dataset = pd.read_parquet('../resources/generated/raw_dataset.parquet')\n",
    "# \n",
    "# for key in dataset.columns:\n",
    "#     dict = {int(k): v for k, v in headers_df[key]['possible_answers'].items() if k.isdigit()}\n",
    "#     dataset[key] = dataset[key].map(dict)\n",
    "\n",
    "target_name: str = 'CVDINFR4'"
   ],
   "id": "initial_id",
   "execution_count": 177,
   "outputs": []
  },
  {
   "metadata": {},
   "cell_type": "markdown",
   "source": "Let's start with the shape of our dataset:",
   "id": "9a22266801f1890d"
  },
  {
   "metadata": {
    "ExecuteTime": {
     "end_time": "2024-05-12T00:11:24.317299Z",
     "start_time": "2024-05-12T00:11:24.310502Z"
    }
   },
   "cell_type": "code",
   "source": "dataset.shape",
   "id": "bca8248b78e43227",
   "execution_count": 178,
   "outputs": []
  },
  {
   "metadata": {
    "ExecuteTime": {
     "end_time": "2024-05-12T00:11:25.410882Z",
     "start_time": "2024-05-12T00:11:24.321011Z"
    }
   },
   "cell_type": "code",
   "source": [
    "numerical = [ ]\n",
    "for k, v in headers_df.to_dict().items():\n",
    "    for a in v['possible_answers'].keys():\n",
    "        if ' - ' in a:\n",
    "            numerical.append(k)\n",
    "\n",
    "for col in dataset.columns:\n",
    "    if col not in numerical:\n",
    "        dataset[col] = dataset[col].astype('category')"
   ],
   "id": "72c5e9c4cf53697e",
   "execution_count": 179,
   "outputs": []
  },
  {
   "metadata": {
    "ExecuteTime": {
     "end_time": "2024-05-12T00:11:25.443088Z",
     "start_time": "2024-05-12T00:11:25.412705Z"
    }
   },
   "cell_type": "code",
   "source": "dataset.select_dtypes(include='category').columns",
   "id": "2c58f83ced537a0",
   "execution_count": 180,
   "outputs": []
  },
  {
   "metadata": {
    "ExecuteTime": {
     "end_time": "2024-05-12T00:11:25.818742Z",
     "start_time": "2024-05-12T00:11:25.444254Z"
    }
   },
   "cell_type": "code",
   "source": [
    "invalid_values = {\n",
    "    'HHADULT': [88, 77, 99],\n",
    "    'PHYSHLTH': [88, 77, 99],\n",
    "    'MENTHLTH': [88, 77, 99],\n",
    "    'POORHLTH': [88, 77, 99],\n",
    "    'SLEPTIM1': [77, 99],\n",
    "    'CHILDREN': [88, 99],\n",
    "    'WEIGHT2': [7777, 9999],\n",
    "    'HEIGHT3': [7777, 9999],\n",
    "    'LCSFIRST': [777, 888, 999],\n",
    "    'LCSLAST': [777, 999],\n",
    "    'LCSNUMCG': [777, 999],\n",
    "    'ALCDAY4': [777, 888, 999],\n",
    "    'AVEDRNK3': [88, 77, 99],\n",
    "    'DRNK3GE5': [88, 77, 99],\n",
    "    'MAXDRNKS': [77, 99],\n",
    "    'FLSHTMY3': [777777, 999999],\n",
    "    'HIVTSTD3': [777777, 999999],\n",
    "    'CHKHEMO3': [88, 98, 77, 99],\n",
    "    'HPVADSHT': [77, 99],\n",
    "    'COVIDFS1': [777777, 999999],\n",
    "    'COVIDSE1': [777777, 999999],\n",
    "    'COPDSMOK': [88, 77, 99],\n",
    "    'CNCRAGE': [98, 99],\n",
    "    'MARIJAN1': [88, 77, 99],\n",
    "    'DROCDY4_': [900],\n",
    "    '_DRNKWK2': [99900]\n",
    "}\n",
    "\n",
    "def replace_with_none(df, column, invalid_list):\n",
    "    df[column] = df[column].replace(invalid_list, None)\n",
    "    return df\n",
    "\n",
    "for column, invalids in invalid_values.items():\n",
    "    dataset = replace_with_none(dataset, column, invalids)\n",
    "\n",
    "dataset['MENTHLTH'].value_counts(dropna=False)"
   ],
   "id": "e6c2e5c5def98a5",
   "execution_count": 181,
   "outputs": []
  },
  {
   "metadata": {
    "ExecuteTime": {
     "end_time": "2024-05-12T00:11:25.823280Z",
     "start_time": "2024-05-12T00:11:25.819403Z"
    }
   },
   "cell_type": "code",
   "source": [
    "def possible_answers(question_key: str) -> dict:\n",
    "    return {\n",
    "        int(k): v for k, v in headers_df[question_key]['possible_answers'].items() if k.isdigit()\n",
    "    }\n",
    "\n",
    "def count_of(question_key: str, dataset: pd.DataFrame = dataset) -> dict:\n",
    "    print(f'possible answers: {possible_answers(question_key)}')\n",
    "    return dataset[question_key].map(possible_answers(question_key)).value_counts()\n",
    "\n",
    "def plot_bar_of_count(question_key: str, dataset: pd.DataFrame = dataset):\n",
    "    value_counts = count_of(question_key, dataset)\n",
    "\n",
    "    fig = go.Figure(\n",
    "        data=[go.Bar(x=value_counts.index, y=value_counts.values)]\n",
    "    )\n",
    "\n",
    "    fig.update_layout(\n",
    "        title=headers_df[question_key]['label'],\n",
    "        xaxis_title='Categories',\n",
    "        yaxis_title='Count',\n",
    "        width=1100,\n",
    "        height=600,\n",
    "    )\n",
    "\n",
    "    fig.show()\n",
    "\n",
    "\n",
    "def correlation_plot(df: pd.DataFrame = dataset):\n",
    "    correlation_matrix = df.corr(method='spearman')\n",
    "\n",
    "    fig = px.imshow(correlation_matrix,\n",
    "                    text_auto=True,\n",
    "                    aspect=\"auto\",\n",
    "                    color_continuous_scale='RdBu_r',  # Red-Blue color map, reversed\n",
    "                    labels={'x': \"Feature\", 'y': \"Feature\", 'color': \"Correlation Coefficient\"},\n",
    "                    x=correlation_matrix.columns,\n",
    "                    y=correlation_matrix.columns)\n",
    "\n",
    "    fig.update_layout(title=\"BRFSS Correlation Matrix\",\n",
    "                      xaxis_title=\"Features\",\n",
    "                      yaxis_title=\"Features\")\n",
    "    \n",
    "    fig.show()\n",
    "\n",
    "def pie_plot(question_key: str):\n",
    "    value_counts = count_of(question_key)\n",
    "    \n",
    "    fig = go.Figure(\n",
    "        data=[go.Pie(labels=value_counts.index, values=value_counts.values)]\n",
    "    )\n",
    "\n",
    "    fig.update_layout(\n",
    "        title=headers_df[question_key]['label'],\n",
    "        width=1100,\n",
    "        height=600,\n",
    "        legend={\n",
    "            'orientation': 'h',\n",
    "            'xanchor': 'center',\n",
    "            'x': 0.5,\n",
    "            'y': -0.1\n",
    "        }\n",
    "    )\n",
    "    \n",
    "    fig.show()"
   ],
   "id": "6720813dee12027a",
   "execution_count": 182,
   "outputs": []
  },
  {
   "metadata": {
    "ExecuteTime": {
     "end_time": "2024-05-12T00:11:25.837424Z",
     "start_time": "2024-05-12T00:11:25.824015Z"
    }
   },
   "cell_type": "code",
   "source": "dataset['SLEPTIM1'].value_counts()",
   "id": "1125e8600aae96f2",
   "execution_count": 183,
   "outputs": []
  },
  {
   "metadata": {},
   "cell_type": "markdown",
   "source": "",
   "id": "e56af58bd6b51d0f"
  },
  {
   "metadata": {
    "ExecuteTime": {
     "end_time": "2024-05-12T00:11:25.846156Z",
     "start_time": "2024-05-12T00:11:25.838045Z"
    }
   },
   "cell_type": "code",
   "source": [
    "columns = [\n",
    "    'CVDINFR4',\n",
    "    # '_AGE_G',\n",
    "    # 'BIRTHSEX',\n",
    "    # 'DIABETE4',\n",
    "    # '_DENVST3',\n",
    "]\n",
    "\n",
    "for column in columns:\n",
    "    plot_bar_of_count(column)\n"
   ],
   "id": "de3e67324fd270c9",
   "execution_count": 184,
   "outputs": []
  },
  {
   "metadata": {
    "ExecuteTime": {
     "end_time": "2024-05-12T00:11:26.931744Z",
     "start_time": "2024-05-12T00:11:25.846785Z"
    }
   },
   "cell_type": "code",
   "source": [
    "cols = [target_name, 'DIABETE4']\n",
    "\n",
    "plot_bar_of_count('DIABETE4', dataset=dataset[dataset[target_name] == 1])\n",
    "plot_bar_of_count('DIABETE4', dataset=dataset[dataset[target_name] == 2])\n",
    "\n",
    "cols = [target_name, 'BIRTHSEX']\n",
    "\n",
    "plot_bar_of_count('BIRTHSEX', dataset=dataset[dataset[target_name] == 1])\n",
    "plot_bar_of_count('BIRTHSEX', dataset=dataset[dataset[target_name] == 2])\n",
    "\n",
    "cols = [target_name, '_AGE_G']\n",
    "\n",
    "plot_bar_of_count('_AGE_G', dataset=dataset[dataset[target_name] == 1])\n",
    "plot_bar_of_count('_AGE_G', dataset=dataset[dataset[target_name] == 2])\n",
    "\n",
    "cols = [target_name, 'SLEPTIM1']\n",
    "\n",
    "plot_bar_of_count('SLEPTIM1', dataset=dataset[dataset[target_name] == 1])\n",
    "plot_bar_of_count('SLEPTIM1', dataset=dataset[dataset[target_name] == 2])\n"
   ],
   "id": "c71d9e78bf373a6f",
   "execution_count": 185,
   "outputs": []
  },
  {
   "metadata": {
    "ExecuteTime": {
     "end_time": "2024-05-12T00:11:27.161418Z",
     "start_time": "2024-05-12T00:11:26.933852Z"
    }
   },
   "cell_type": "code",
   "source": [
    "import numpy as np\n",
    "import pandas as pd\n",
    "from scipy.stats import chi2_contingency\n",
    "from statsmodels.stats.contingency_tables import Table2x2\n",
    "\n",
    "# Example data\n",
    "df = dataset\n",
    "\n",
    "contingency_table = pd.crosstab(df[target_name], df['_AGE_G'])\n",
    "\n",
    "fig = px.imshow(contingency_table,\n",
    "                text_auto=True, \n",
    "                labels={'x': '_AGE_G', 'y': target_name, 'color': \"Count\"},\n",
    "                x=contingency_table.columns,\n",
    "                y=contingency_table.index,\n",
    "                title=\"Heatmap of Contingency Table\")\n",
    "fig.update_xaxes(side=\"top\")\n",
    "fig.show()\n",
    "\n"
   ],
   "id": "e50f4b1a3ac6d902",
   "execution_count": 186,
   "outputs": []
  },
  {
   "metadata": {
    "ExecuteTime": {
     "end_time": "2024-05-12T00:11:27.163386Z",
     "start_time": "2024-05-12T00:11:27.162093Z"
    }
   },
   "cell_type": "code",
   "source": "",
   "id": "7b77231c823be1c4",
   "execution_count": 186,
   "outputs": []
  }
 ],
 "metadata": {
  "kernelspec": {
   "display_name": "Python 3",
   "language": "python",
   "name": "python3"
  },
  "language_info": {
   "codemirror_mode": {
    "name": "ipython",
    "version": 2
   },
   "file_extension": ".py",
   "mimetype": "text/x-python",
   "name": "python",
   "nbconvert_exporter": "python",
   "pygments_lexer": "ipython2",
   "version": "2.7.6"
  }
 },
 "nbformat": 4,
 "nbformat_minor": 5
}
